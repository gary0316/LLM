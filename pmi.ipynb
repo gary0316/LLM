{
  "nbformat": 4,
  "nbformat_minor": 0,
  "metadata": {
    "colab": {
      "provenance": []
    },
    "kernelspec": {
      "name": "python3",
      "display_name": "Python 3"
    },
    "language_info": {
      "name": "python"
    }
  },
  "cells": [
    {
      "cell_type": "code",
      "execution_count": 1,
      "metadata": {
        "colab": {
          "base_uri": "https://localhost:8080/"
        },
        "id": "K_rL_mtXADDD",
        "outputId": "f6a16fb9-ed72-461f-ae76-0a54fa75983c"
      },
      "outputs": [
        {
          "output_type": "stream",
          "name": "stdout",
          "text": [
            "[[0.   0.18 0.07 0.07 0.07 0.3  0.3  0.3  0.3  0.22]\n",
            " [0.18 0.   0.44 0.44 0.44 0.   0.   0.   0.66 0.18]\n",
            " [0.07 0.44 0.   1.03 1.03 0.   0.   0.   0.   0.07]\n",
            " [0.07 0.44 1.03 0.   1.03 0.   0.   0.   0.   0.07]\n",
            " [0.07 0.44 1.03 1.03 0.   0.   0.   0.   0.   0.07]\n",
            " [0.3  0.   0.   0.   0.   0.   1.48 0.78 0.   0.3 ]\n",
            " [0.3  0.   0.   0.   0.   1.48 0.   0.78 0.   0.3 ]\n",
            " [0.3  0.   0.   0.   0.   0.78 0.78 0.   0.78 0.3 ]\n",
            " [0.3  0.66 0.   0.   0.   0.   0.   0.78 0.   0.3 ]\n",
            " [0.22 0.18 0.07 0.07 0.07 0.3  0.3  0.3  0.3  0.  ]]\n"
          ]
        }
      ],
      "source": [
        "import numpy as np\n",
        "#匯入nimpy，用於處理數值運算和陣列操作。\n",
        "M = np.array([[0, 2, 1, 1, 1, 1, 1, 2, 1, 3],\n",
        "              [2, 0, 1, 1, 1, 0, 0, 1, 1, 2],\n",
        "              [1, 1, 0, 1, 1, 0, 0, 0, 0, 1],\n",
        "              [1, 1, 1, 0, 1, 0, 0, 0, 0, 1],\n",
        "              [1, 1, 1, 1, 0, 0, 0, 0, 0, 1],\n",
        "              [1, 0, 0, 0, 0, 0, 1, 1, 0, 1],\n",
        "              [1, 0, 0, 0, 0, 1, 0, 1, 0, 1],\n",
        "              [2, 1, 0, 0, 0, 1, 1, 0, 1, 2],\n",
        "              [1, 1, 0, 0, 0, 0, 0, 1, 0, 1],\n",
        "              [3, 2, 1, 1, 1, 1, 1, 2, 1, 0]])\n",
        "#定義矩陣M。\n",
        "def pmi(M, positive=True):\n",
        "#定義計算互訊的函數pmi。\n",
        "    col_totals = M.sum(axis=0)\n",
        "    #計算每一列的總和\n",
        "    row_totals = M.sum(axis=1)\n",
        "    #計算每一行的總和\n",
        "    total = col_totals.sum()\n",
        "    #計算所有元素的總和\n",
        "    expected = np.outer(row_totals, col_totals) / total\n",
        "    #計算期望共現矩陣，表示如果詞在文件中是獨立的，它們的共現次數會是多少。\n",
        "    M = M / expected\n",
        "    # Silence distracting warnings about log(0):\n",
        "    with np.errstate(divide='ignore'):\n",
        "    #忽略除以零的警告。\n",
        "        M = np.log(M)\n",
        "        #對上述比率取自然對數，得到點間互訊矩陣。\n",
        "    M[np.isinf(M)] = 0.0  # log(0) = 0\n",
        "    if positive:\n",
        "        M[M < 0] = 0.0\n",
        "    return M\n",
        "\n",
        "M_pmi = pmi(M)\n",
        "#使用剛定義的pmi函數計算點間互訊矩陣。\n",
        "np.set_printoptions(precision=2)\n",
        "#設置NumPy的列印選項，以控制浮點數的小數位數。\n",
        "print(M_pmi)\n",
        "#列印計算出的點間互訊矩陣。"
      ]
    }
  ]
}