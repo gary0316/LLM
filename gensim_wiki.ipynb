{
  "nbformat": 4,
  "nbformat_minor": 0,
  "metadata": {
    "colab": {
      "provenance": []
    },
    "kernelspec": {
      "name": "python3",
      "display_name": "Python 3"
    },
    "language_info": {
      "name": "python"
    }
  },
  "cells": [
    {
      "cell_type": "code",
      "execution_count": 1,
      "metadata": {
        "colab": {
          "base_uri": "https://localhost:8080/"
        },
        "id": "c4pEjwJNDFV4",
        "outputId": "4e527b41-e829-4c8f-b75c-70344e12b450"
      },
      "outputs": [
        {
          "output_type": "stream",
          "name": "stdout",
          "text": [
            "--2023-12-28 06:11:21--  https://dumps.wikimedia.org/zhwiki/20231201/zhwiki-20231201-pages-articles-multistream1.xml-p1p187712.bz2\n",
            "Resolving dumps.wikimedia.org (dumps.wikimedia.org)... 208.80.154.142, 2620:0:861:2:208:80:154:142\n",
            "Connecting to dumps.wikimedia.org (dumps.wikimedia.org)|208.80.154.142|:443... connected.\n",
            "HTTP request sent, awaiting response... 200 OK\n",
            "Length: 230609687 (220M) [application/octet-stream]\n",
            "Saving to: ‘zhwiki-20231201-pages-articles-multistream1.xml-p1p187712.bz2’\n",
            "\n",
            "zhwiki-20231201-pag 100%[===================>] 219.93M  4.23MB/s    in 54s     \n",
            "\n",
            "2023-12-28 06:12:15 (4.10 MB/s) - ‘zhwiki-20231201-pages-articles-multistream1.xml-p1p187712.bz2’ saved [230609687/230609687]\n",
            "\n"
          ]
        }
      ],
      "source": [
        "!wget https://dumps.wikimedia.org/zhwiki/20231201/zhwiki-20231201-pages-articles-multistream1.xml-p1p187712.bz2\n",
        "#使用wget工具下載一個維基百科的數據檔案。"
      ]
    },
    {
      "cell_type": "code",
      "source": [
        "!pip install opencc-python-reimplemented\n",
        "#使用pip安裝一個名為opencc-python-reimplemented的Python套件。"
      ],
      "metadata": {
        "colab": {
          "base_uri": "https://localhost:8080/"
        },
        "id": "bOo8P9qZDYso",
        "outputId": "6522355c-5861-4b9a-a136-0e400742b8e7"
      },
      "execution_count": 2,
      "outputs": [
        {
          "output_type": "stream",
          "name": "stdout",
          "text": [
            "Collecting opencc-python-reimplemented\n",
            "  Downloading opencc_python_reimplemented-0.1.7-py2.py3-none-any.whl (481 kB)\n",
            "\u001b[2K     \u001b[90m━━━━━━━━━━━━━━━━━━━━━━━━━━━━━━━━━━━━━━━━\u001b[0m \u001b[32m481.8/481.8 kB\u001b[0m \u001b[31m4.8 MB/s\u001b[0m eta \u001b[36m0:00:00\u001b[0m\n",
            "\u001b[?25hInstalling collected packages: opencc-python-reimplemented\n",
            "Successfully installed opencc-python-reimplemented-0.1.7\n"
          ]
        }
      ]
    },
    {
      "cell_type": "code",
      "source": [
        "from gensim.corpora import WikiCorpus\n",
        "#從Gensim中的corpora模組中導入WikiCorpus類別。\n",
        "wiki_corpus = WikiCorpus('zhwiki-20231201-pages-articles-multistream1.xml-p1p187712.bz2', dictionary={})\n",
        ""
      ],
      "metadata": {
        "id": "HhpuTAylDf4k"
      },
      "execution_count": 5,
      "outputs": []
    },
    {
      "cell_type": "code",
      "source": [
        "wiki_corpus\n",
        "#創建了一個名為wiki_corpus的WikiCorpus實例。"
      ],
      "metadata": {
        "colab": {
          "base_uri": "https://localhost:8080/"
        },
        "id": "RdfaJjLmD7Z0",
        "outputId": "bfd20f77-ce48-4093-d5f8-29b30bda2367"
      },
      "execution_count": 6,
      "outputs": [
        {
          "output_type": "execute_result",
          "data": {
            "text/plain": [
              "<gensim.corpora.wikicorpus.WikiCorpus at 0x7d75770c7b50>"
            ]
          },
          "metadata": {},
          "execution_count": 6
        }
      ]
    },
    {
      "cell_type": "code",
      "source": [
        "next(iter(wiki_corpus.get_texts()))[:10]\n",
        "#使用wiki_corpus.get_texts()取得維基百科語料庫的文本，然後使用iter()將其轉換為可迭代對象，最後使用next(...)取得迭代器的下一個元素。"
      ],
      "metadata": {
        "colab": {
          "base_uri": "https://localhost:8080/"
        },
        "id": "oBKb3I9nD7Y7",
        "outputId": "51b979f3-9428-4c43-b14d-a832a0c28381"
      },
      "execution_count": 7,
      "outputs": [
        {
          "output_type": "execute_result",
          "data": {
            "text/plain": [
              "['歐幾里得',\n",
              " '西元前三世紀的古希臘數學家',\n",
              " '現在被認為是幾何之父',\n",
              " '此畫為拉斐爾的作品',\n",
              " '雅典學院',\n",
              " '数学',\n",
              " '是研究數量',\n",
              " '屬於形式科學的一種',\n",
              " '數學利用抽象化和邏輯推理',\n",
              " '從計數']"
            ]
          },
          "metadata": {},
          "execution_count": 7
        }
      ]
    },
    {
      "cell_type": "code",
      "source": [
        "text_num = 0\n",
        "#初始化一個變數text_num，用於計算處理的文本數量。\n",
        "with open('wiki_text.txt', 'w', encoding='utf-8') as f:\n",
        "#打開一個檔案wiki_text.txt以進行寫入，使用 UTF-8 編碼。\n",
        "    for text in wiki_corpus.get_texts():\n",
        "    #遍歷 wiki_corpus 中的文本。\n",
        "        f.write(' '.join(text)+'\\n')\n",
        "        #將處理過的文本以空格分隔的詞彙序列的形式寫入文件。\n",
        "        text_num += 1\n",
        "        #計算處理的文本數量。\n",
        "        if text_num % 10000 == 0:\n",
        "        #當處理的文本數量達到10000篇時，執行下面的代碼塊。\n",
        "            print('{} articles processed.'.format(text_num))\n",
        "            #列印目前處理的文本數量。\n",
        "\n",
        "    print('{} articles processed.'.format(text_num))\n",
        "    #在所有文本處理完成後，再次列印總處理的文本數量。"
      ],
      "metadata": {
        "colab": {
          "base_uri": "https://localhost:8080/"
        },
        "id": "AD0IiLw-EDim",
        "outputId": "acd87fe9-56e1-4d3f-ceda-ad74302f2854"
      },
      "execution_count": 9,
      "outputs": [
        {
          "output_type": "stream",
          "name": "stdout",
          "text": [
            "10000 articles processed.\n",
            "20000 articles processed.\n",
            "30000 articles processed.\n",
            "32705 articles processed.\n"
          ]
        }
      ]
    },
    {
      "cell_type": "code",
      "source": [
        "import jieba\n",
        "from opencc import OpenCC\n",
        "\n",
        "\n",
        "# Initial\n",
        "cc = OpenCC('s2t')\n",
        "#創建一個OpenCC的實例，並指定轉換方式為從簡體中文(s)到繁體中文(t)。\n",
        "train_data = open('wiki_text.txt', 'r', encoding='utf-8').read()\n",
        "#讀取'wiki_text.txt'檔案中的內容\n",
        "train_data = cc.convert(train_data)\n",
        "#使用OpenCC將簡體中文轉換為繁體中文。\n",
        "train_data = jieba.lcut(train_data)\n",
        "#使用jieba分詞，將文本拆分為一個個詞語。\n",
        "train_data = [word for word in train_data if word != '']\n",
        "#去除空白詞語，保留非空的詞語。\n",
        "train_data = ' '.join(train_data)\n",
        "#將分詞後的詞語列表組合成一個以空格分隔的字串。\n",
        "open('seg.txt', 'w', encoding='utf-8').write(train_data)\n",
        "#將處理完的文本寫入'seg.txt'檔案中，用作後續的分析和處理。"
      ],
      "metadata": {
        "colab": {
          "base_uri": "https://localhost:8080/"
        },
        "id": "bpkQgzZlF4Cv",
        "outputId": "72fe33cd-0012-4094-ba7f-9cf8c463d9ff"
      },
      "execution_count": 10,
      "outputs": [
        {
          "output_type": "stream",
          "name": "stderr",
          "text": [
            "Building prefix dict from the default dictionary ...\n",
            "DEBUG:jieba:Building prefix dict from the default dictionary ...\n",
            "Dumping model to file cache /tmp/jieba.cache\n",
            "DEBUG:jieba:Dumping model to file cache /tmp/jieba.cache\n",
            "Loading model cost 1.577 seconds.\n",
            "DEBUG:jieba:Loading model cost 1.577 seconds.\n",
            "Prefix dict has been built successfully.\n",
            "DEBUG:jieba:Prefix dict has been built successfully.\n"
          ]
        },
        {
          "output_type": "execute_result",
          "data": {
            "text/plain": [
              "135539442"
            ]
          },
          "metadata": {},
          "execution_count": 10
        }
      ]
    },
    {
      "cell_type": "code",
      "source": [
        "from gensim.models import word2vec\n",
        "#導入Gensim中的Word2Vec模型。\n",
        "\n",
        "# Settings\n",
        "seed = 666\n",
        "#設定亂數種子，確保結果的可重複性。\n",
        "sg = 0\n",
        "#設定Skip-gram模型。\n",
        "window_size = 10\n",
        "#設定窗口大小。\n",
        "#vector_size = 100\n",
        "min_count = 1\n",
        "#詞頻閾值，詞頻低於此值的詞將被忽略。\n",
        "workers = 8\n",
        "#設定模型訓練的並行工作數。\n",
        "#epochs = 5\n",
        "batch_words = 10000\n",
        "#每一個訓練批次的單詞數。\n",
        "train_data = word2vec.LineSentence('seg.txt')\n",
        "#從'seg.txt'中讀取分詞後的文本數據，使用LineSentence來處理每一行的分詞。\n",
        "model = word2vec.Word2Vec(\n",
        "    train_data,\n",
        "    min_count=min_count,\n",
        "    #size=vector_size,\n",
        "    workers=workers,\n",
        "    #iter=epochs,\n",
        "    window=window_size,\n",
        "    sg=sg,\n",
        "    seed=seed,\n",
        "    batch_words=batch_words\n",
        ")\n",
        "#設定參數建立Word2Vec模型。\n",
        "model.save('word2vec.model')\n",
        "#將訓練好的Word2Vec模型儲存到'word2vec.model'檔案中。\n",
        ""
      ],
      "metadata": {
        "id": "L5VT2ttrF4Bv"
      },
      "execution_count": 11,
      "outputs": []
    },
    {
      "cell_type": "code",
      "source": [
        "from gensim.models import word2vec\n",
        "#導入Gensim中的Word2Vec模型。\n",
        "string = '電腦'\n",
        "#設定一個詞語'電腦'。\n",
        "model = word2vec.Word2Vec.load('word2vec.model')\n",
        "#從'word2vec.model'中載入訓練好的Word2Vec模型。\n",
        "print(string)\n",
        "#列印出設定的詞語。\n",
        "for item in model.wv.most_similar(string):\n",
        "#對於模型中與輸入詞語最相似的詞，使用most_similar方法迭代取出每個相似詞。\n",
        "    print(item)\n",
        "    #列印出相似詞及其相似度。"
      ],
      "metadata": {
        "colab": {
          "base_uri": "https://localhost:8080/"
        },
        "id": "63gxHaU3NFI-",
        "outputId": "90c12f5a-0fbd-464d-ff93-40204ad80e74"
      },
      "execution_count": 12,
      "outputs": [
        {
          "output_type": "stream",
          "name": "stdout",
          "text": [
            "電腦\n",
            "('計算機', 0.7747930288314819)\n",
            "('軟體', 0.7732110619544983)\n",
            "('程式', 0.7476573586463928)\n",
            "('pda', 0.7414882779121399)\n",
            "('遊戲機', 0.7409443855285645)\n",
            "('硬體', 0.7400156259536743)\n",
            "('pc', 0.7379648089408875)\n",
            "('ibm', 0.728009045124054)\n",
            "('家用', 0.7150958776473999)\n",
            "('手機', 0.7146145701408386)\n"
          ]
        }
      ]
    }
  ]
}