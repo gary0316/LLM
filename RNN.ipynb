{
  "nbformat": 4,
  "nbformat_minor": 0,
  "metadata": {
    "colab": {
      "provenance": []
    },
    "kernelspec": {
      "name": "python3",
      "display_name": "Python 3"
    },
    "language_info": {
      "name": "python"
    }
  },
  "cells": [
    {
      "cell_type": "code",
      "execution_count": 1,
      "metadata": {
        "colab": {
          "base_uri": "https://localhost:8080/"
        },
        "id": "exTWYcm9E9bL",
        "outputId": "5b07b792-a8c6-4fdc-a841-c7224d0675e7"
      },
      "outputs": [
        {
          "output_type": "stream",
          "name": "stdout",
          "text": [
            "--2023-10-29 06:17:05--  https://github.com/shhuangmust/AI/raw/111-2/Google_Stock_Price_Train.csv\n",
            "Resolving github.com (github.com)... 20.27.177.113\n",
            "Connecting to github.com (github.com)|20.27.177.113|:443... connected.\n",
            "HTTP request sent, awaiting response... 302 Found\n",
            "Location: https://raw.githubusercontent.com/shhuangmust/AI/111-2/Google_Stock_Price_Train.csv [following]\n",
            "--2023-10-29 06:17:05--  https://raw.githubusercontent.com/shhuangmust/AI/111-2/Google_Stock_Price_Train.csv\n",
            "Resolving raw.githubusercontent.com (raw.githubusercontent.com)... 185.199.108.133, 185.199.109.133, 185.199.110.133, ...\n",
            "Connecting to raw.githubusercontent.com (raw.githubusercontent.com)|185.199.108.133|:443... connected.\n",
            "HTTP request sent, awaiting response... 200 OK\n",
            "Length: 63488 (62K) [text/plain]\n",
            "Saving to: ‘Google_Stock_Price_Train.csv’\n",
            "\n",
            "Google_Stock_Price_ 100%[===================>]  62.00K  --.-KB/s    in 0.07s   \n",
            "\n",
            "2023-10-29 06:17:06 (874 KB/s) - ‘Google_Stock_Price_Train.csv’ saved [63488/63488]\n",
            "\n",
            "--2023-10-29 06:17:06--  https://github.com/shhuangmust/AI/raw/111-2/Google_Stock_Price_Test.csv\n",
            "Resolving github.com (github.com)... 20.27.177.113\n",
            "Connecting to github.com (github.com)|20.27.177.113|:443... connected.\n",
            "HTTP request sent, awaiting response... 302 Found\n",
            "Location: https://raw.githubusercontent.com/shhuangmust/AI/111-2/Google_Stock_Price_Test.csv [following]\n",
            "--2023-10-29 06:17:06--  https://raw.githubusercontent.com/shhuangmust/AI/111-2/Google_Stock_Price_Test.csv\n",
            "Resolving raw.githubusercontent.com (raw.githubusercontent.com)... 185.199.111.133, 185.199.110.133, 185.199.108.133, ...\n",
            "Connecting to raw.githubusercontent.com (raw.githubusercontent.com)|185.199.111.133|:443... connected.\n",
            "HTTP request sent, awaiting response... 200 OK\n",
            "Length: 1029 (1.0K) [text/plain]\n",
            "Saving to: ‘Google_Stock_Price_Test.csv’\n",
            "\n",
            "Google_Stock_Price_ 100%[===================>]   1.00K  --.-KB/s    in 0s      \n",
            "\n",
            "2023-10-29 06:17:07 (43.7 MB/s) - ‘Google_Stock_Price_Test.csv’ saved [1029/1029]\n",
            "\n"
          ]
        }
      ],
      "source": [
        "!wget https://github.com/shhuangmust/AI/raw/111-2/Google_Stock_Price_Train.csv\n",
        "!wget https://github.com/shhuangmust/AI/raw/111-2/Google_Stock_Price_Test.csv\n",
        "#使用 wget 命令下載文件，下載了兩個不同的CSV文件。"
      ]
    },
    {
      "cell_type": "code",
      "source": [
        "# Import the libraries\n",
        "import numpy as np\n",
        "import matplotlib.pyplot as plt  # for 畫圖用\n",
        "import pandas as pd\n",
        "\n",
        "# Import the training set\n",
        "dataset_train = pd.read_csv('Google_Stock_Price_Train.csv')  # 讀取訓練集\n",
        "#使用Pandas的read_csv函數從名為'Google_Stock_Price_Train.csv'的CSV文件中讀取數據，並將其存儲在一個Pandas數據框（DataFrame）中，稱為dataset_train。\n",
        "training_set = dataset_train.iloc[:, 1:2].values  # 取「Open」欄位值\n",
        "#選擇dataset_train數據框中的\"Open\"欄位，使用.iloc方法可以選擇特定的行和列，這裡選擇所有行（:表示所有行）和第2列（索引為1），然後使用.values轉換為NumPy數組，並將其存儲在training_set中。\n",
        "\n",
        "# Feature Scaling\n",
        "from sklearn.preprocessing import MinMaxScaler\n",
        "#從Scikit-Learn庫的preprocessing模塊中引入了MinMaxScaler。\n",
        "\n",
        "sc = MinMaxScaler(feature_range = (0, 1))\n",
        "#創建了一個MinMaxScaler對象，並指定了縮放的範圍，這裡是(0, 1)，即將數據縮放到0到1之間。\n",
        "training_set_scaled = sc.fit_transform(training_set)\n",
        "#使用MinMaxScaler對象sc的fit_transform方法，將training_set中的數據進行縮放，並將結果存儲在training_set_scaled中。\n",
        "\n",
        "X_train = []   #預測點的前 60 天的資料\n",
        "y_train = []   #預測點\n",
        "for i in range(60, 1258):  # 1258 是訓練集總數\n",
        "    X_train.append(training_set_scaled[i-60:i, 0])\n",
        "    y_train.append(training_set_scaled[i, 0])\n",
        "X_train, y_train = np.array(X_train), np.array(y_train)  # 轉成numpy array的格式，以利輸入 RNN\n",
        "\n",
        "X_train = np.reshape(X_train, (X_train.shape[0], X_train.shape[1], 1))\n",
        "#使用NumPy的reshape函數對X_train進行形狀調整，將其變成三維數組，形狀為(樣本數, 時間步長, 特徵數)，這樣就可以作為RNN模型的輸入。"
      ],
      "metadata": {
        "id": "1I9zQyTgFHve"
      },
      "execution_count": 2,
      "outputs": []
    },
    {
      "cell_type": "code",
      "source": [
        "# Import the Keras libraries and packages\n",
        "from keras.models import Sequential\n",
        "#導入Keras中的Sequential模型\n",
        "from keras.layers import Dense\n",
        "from keras.layers import LSTM\n",
        "from keras.layers import Dropout\n",
        "#所需的層類型，包括Dense（全連接層）、LSTM（長短期記憶層）和Dropout（用於正則化的層）。\n",
        "\n",
        "# Initialising the RNN\n",
        "regressor = Sequential()\n",
        "#創建一個名為regressor的Sequential模型。\n",
        "\n",
        "# Adding the first LSTM layer and some Dropout regularisation\n",
        "regressor.add(LSTM(units = 50, return_sequences = True, input_shape = (X_train.shape[1], 1)))\n",
        "regressor.add(Dropout(0.2))\n",
        "\n",
        "# Adding a second LSTM layer and some Dropout regularisation\n",
        "regressor.add(LSTM(units = 50, return_sequences = True))\n",
        "regressor.add(Dropout(0.2))\n",
        "\n",
        "# Adding a third LSTM layer and some Dropout regularisation\n",
        "regressor.add(LSTM(units = 50, return_sequences = True))\n",
        "regressor.add(Dropout(0.2))\n",
        "\n",
        "# Adding a fourth LSTM layer and some Dropout regularisation\n",
        "regressor.add(LSTM(units = 50))\n",
        "regressor.add(Dropout(0.2))\n",
        "# Adding the output layer\n",
        "regressor.add(Dense(units = 1))\n",
        "#模型的頂部添加了一個全連接層（Dense），它具有一個單元。\n",
        "\n",
        "# Compiling\n",
        "regressor.compile(optimizer = 'adam', loss = 'mean_squared_error')\n",
        "#編譯模型。我們選擇\"adam\"作為優化器，使用均方誤差（mean squared error）作為損失函數。\n",
        "\n",
        "# 進行訓練\n",
        "regressor.fit(X_train, y_train, epochs = 65, batch_size = 32)\n",
        "#使用fit函數訓練模型。"
      ],
      "metadata": {
        "colab": {
          "base_uri": "https://localhost:8080/"
        },
        "id": "2cK-P64aFNEL",
        "outputId": "e3e4f00c-9e8c-49e1-a086-de8d9b7ac038"
      },
      "execution_count": 3,
      "outputs": [
        {
          "output_type": "stream",
          "name": "stdout",
          "text": [
            "Epoch 1/65\n",
            "38/38 [==============================] - 13s 149ms/step - loss: 0.0473\n",
            "Epoch 2/65\n",
            "38/38 [==============================] - 4s 116ms/step - loss: 0.0069\n",
            "Epoch 3/65\n",
            "38/38 [==============================] - 4s 115ms/step - loss: 0.0055\n",
            "Epoch 4/65\n",
            "38/38 [==============================] - 6s 147ms/step - loss: 0.0054\n",
            "Epoch 5/65\n",
            "38/38 [==============================] - 4s 114ms/step - loss: 0.0048\n",
            "Epoch 6/65\n",
            "38/38 [==============================] - 5s 123ms/step - loss: 0.0055\n",
            "Epoch 7/65\n",
            "38/38 [==============================] - 5s 136ms/step - loss: 0.0056\n",
            "Epoch 8/65\n",
            "38/38 [==============================] - 4s 115ms/step - loss: 0.0041\n",
            "Epoch 9/65\n",
            "38/38 [==============================] - 6s 148ms/step - loss: 0.0043\n",
            "Epoch 10/65\n",
            "38/38 [==============================] - 4s 114ms/step - loss: 0.0047\n",
            "Epoch 11/65\n",
            "38/38 [==============================] - 4s 113ms/step - loss: 0.0040\n",
            "Epoch 12/65\n",
            "38/38 [==============================] - 7s 173ms/step - loss: 0.0040\n",
            "Epoch 13/65\n",
            "38/38 [==============================] - 4s 114ms/step - loss: 0.0043\n",
            "Epoch 14/65\n",
            "38/38 [==============================] - 5s 132ms/step - loss: 0.0037\n",
            "Epoch 15/65\n",
            "38/38 [==============================] - 5s 128ms/step - loss: 0.0039\n",
            "Epoch 16/65\n",
            "38/38 [==============================] - 4s 114ms/step - loss: 0.0039\n",
            "Epoch 17/65\n",
            "38/38 [==============================] - 6s 148ms/step - loss: 0.0038\n",
            "Epoch 18/65\n",
            "38/38 [==============================] - 4s 115ms/step - loss: 0.0039\n",
            "Epoch 19/65\n",
            "38/38 [==============================] - 4s 115ms/step - loss: 0.0039\n",
            "Epoch 20/65\n",
            "38/38 [==============================] - 6s 148ms/step - loss: 0.0034\n",
            "Epoch 21/65\n",
            "38/38 [==============================] - 4s 115ms/step - loss: 0.0034\n",
            "Epoch 22/65\n",
            "38/38 [==============================] - 5s 128ms/step - loss: 0.0032\n",
            "Epoch 23/65\n",
            "38/38 [==============================] - 5s 133ms/step - loss: 0.0034\n",
            "Epoch 24/65\n",
            "38/38 [==============================] - 4s 114ms/step - loss: 0.0032\n",
            "Epoch 25/65\n",
            "38/38 [==============================] - 6s 148ms/step - loss: 0.0030\n",
            "Epoch 26/65\n",
            "38/38 [==============================] - 4s 114ms/step - loss: 0.0030\n",
            "Epoch 27/65\n",
            "38/38 [==============================] - 4s 115ms/step - loss: 0.0030\n",
            "Epoch 28/65\n",
            "38/38 [==============================] - 6s 148ms/step - loss: 0.0029\n",
            "Epoch 29/65\n",
            "38/38 [==============================] - 4s 114ms/step - loss: 0.0028\n",
            "Epoch 30/65\n",
            "38/38 [==============================] - 5s 119ms/step - loss: 0.0032\n",
            "Epoch 31/65\n",
            "38/38 [==============================] - 5s 142ms/step - loss: 0.0030\n",
            "Epoch 32/65\n",
            "38/38 [==============================] - 4s 115ms/step - loss: 0.0030\n",
            "Epoch 33/65\n",
            "38/38 [==============================] - 6s 149ms/step - loss: 0.0031\n",
            "Epoch 34/65\n",
            "38/38 [==============================] - 4s 116ms/step - loss: 0.0028\n",
            "Epoch 35/65\n",
            "38/38 [==============================] - 4s 115ms/step - loss: 0.0033\n",
            "Epoch 36/65\n",
            "38/38 [==============================] - 6s 148ms/step - loss: 0.0027\n",
            "Epoch 37/65\n",
            "38/38 [==============================] - 4s 115ms/step - loss: 0.0029\n",
            "Epoch 38/65\n",
            "38/38 [==============================] - 4s 117ms/step - loss: 0.0029\n",
            "Epoch 39/65\n",
            "38/38 [==============================] - 6s 145ms/step - loss: 0.0026\n",
            "Epoch 40/65\n",
            "38/38 [==============================] - 4s 114ms/step - loss: 0.0028\n",
            "Epoch 41/65\n",
            "38/38 [==============================] - 5s 144ms/step - loss: 0.0027\n",
            "Epoch 42/65\n",
            "38/38 [==============================] - 5s 118ms/step - loss: 0.0025\n",
            "Epoch 43/65\n",
            "38/38 [==============================] - 4s 114ms/step - loss: 0.0030\n",
            "Epoch 44/65\n",
            "38/38 [==============================] - 6s 150ms/step - loss: 0.0027\n",
            "Epoch 45/65\n",
            "38/38 [==============================] - 4s 116ms/step - loss: 0.0025\n",
            "Epoch 46/65\n",
            "38/38 [==============================] - 4s 116ms/step - loss: 0.0021\n",
            "Epoch 47/65\n",
            "38/38 [==============================] - 6s 147ms/step - loss: 0.0024\n",
            "Epoch 48/65\n",
            "38/38 [==============================] - 4s 115ms/step - loss: 0.0024\n",
            "Epoch 49/65\n",
            "38/38 [==============================] - 5s 139ms/step - loss: 0.0022\n",
            "Epoch 50/65\n",
            "38/38 [==============================] - 5s 121ms/step - loss: 0.0024\n",
            "Epoch 51/65\n",
            "38/38 [==============================] - 4s 115ms/step - loss: 0.0023\n",
            "Epoch 52/65\n",
            "38/38 [==============================] - 6s 149ms/step - loss: 0.0023\n",
            "Epoch 53/65\n",
            "38/38 [==============================] - 4s 114ms/step - loss: 0.0023\n",
            "Epoch 54/65\n",
            "38/38 [==============================] - 4s 114ms/step - loss: 0.0024\n",
            "Epoch 55/65\n",
            "38/38 [==============================] - 6s 149ms/step - loss: 0.0022\n",
            "Epoch 56/65\n",
            "38/38 [==============================] - 4s 114ms/step - loss: 0.0028\n",
            "Epoch 57/65\n",
            "38/38 [==============================] - 5s 132ms/step - loss: 0.0024\n",
            "Epoch 58/65\n",
            "38/38 [==============================] - 5s 128ms/step - loss: 0.0021\n",
            "Epoch 59/65\n",
            "38/38 [==============================] - 4s 114ms/step - loss: 0.0020\n",
            "Epoch 60/65\n",
            "38/38 [==============================] - 6s 148ms/step - loss: 0.0020\n",
            "Epoch 61/65\n",
            "38/38 [==============================] - 4s 115ms/step - loss: 0.0020\n",
            "Epoch 62/65\n",
            "38/38 [==============================] - 4s 113ms/step - loss: 0.0021\n",
            "Epoch 63/65\n",
            "38/38 [==============================] - 6s 149ms/step - loss: 0.0021\n",
            "Epoch 64/65\n",
            "38/38 [==============================] - 4s 114ms/step - loss: 0.0021\n",
            "Epoch 65/65\n",
            "38/38 [==============================] - 5s 127ms/step - loss: 0.0020\n"
          ]
        },
        {
          "output_type": "execute_result",
          "data": {
            "text/plain": [
              "<keras.src.callbacks.History at 0x7808557d8eb0>"
            ]
          },
          "metadata": {},
          "execution_count": 3
        }
      ]
    },
    {
      "cell_type": "code",
      "source": [
        "dataset_test = pd.read_csv('Google_Stock_Price_Test.csv')\n",
        "#讀取測試數據集，其中包含股票價格數據。\n",
        "real_stock_price = dataset_test.iloc[:, 1:2].values\n",
        "#從測試數據集中提取實際股票價格（\"Open\"欄位）。\n",
        "dataset_total = pd.concat((dataset_train['Open'], dataset_test['Open']), axis = 0)\n",
        "#將訓練集和測試集的\"Open\"欄位合併成一個總數據集。\n",
        "inputs = dataset_total[len(dataset_total) - len(dataset_test) - 60:].values\n",
        "#提取用於測試的輸入數據。\n",
        "inputs = inputs.reshape(-1,1)\n",
        "#將輸入數據整形為一列（1列），確保數據的維度正確。\n",
        "inputs = sc.transform(inputs) # Feature Scaling\n",
        "#使用先前定義的MinMaxScaler進行特徵縮放，將數據縮放到[0, 1]的範圍內。\n",
        "\n",
        "X_test = []\n",
        "#存儲測試數據的輸入特徵。\n",
        "for i in range(60, 80):  # timesteps一樣60； 80 = 先前的60天資料+2017年的20天資料\n",
        "    X_test.append(inputs[i-60:i, 0])\n",
        "    #將每個時間步長為60的窗口中的數據添加到X_test中。\n",
        "X_test = np.array(X_test)\n",
        "#將X_test轉換為NumPy數組。\n",
        "X_test = np.reshape(X_test, (X_test.shape[0], X_test.shape[1], 1))\n",
        "  # Reshape 成 3-dimension\n",
        "predicted_stock_price = regressor.predict(X_test)\n",
        "#使用已經訓練好的LSTM模型對測試數據的股票價格進行預測。\n",
        "predicted_stock_price = sc.inverse_transform(predicted_stock_price)  # to get the original scale\n"
      ],
      "metadata": {
        "colab": {
          "base_uri": "https://localhost:8080/"
        },
        "id": "zQMFr4GEHHr0",
        "outputId": "b8a211f6-e685-4fd1-9212-daac216ca1f2"
      },
      "execution_count": 4,
      "outputs": [
        {
          "output_type": "stream",
          "name": "stdout",
          "text": [
            "1/1 [==============================] - 2s 2s/step\n"
          ]
        }
      ]
    },
    {
      "cell_type": "code",
      "source": [
        "# Visualising the results\n",
        "plt.plot(real_stock_price, color = 'red', label = 'Real Google Stock Price')  # 紅線表示真實股價\n",
        "#將真實股票價格以紅色折線的形式繪製在圖表上，同時添加標籤 \"Real Google Stock Price\"。\n",
        "plt.plot(predicted_stock_price, color = 'blue', label = 'Predicted Google Stock Price')  # 藍線表示預測股價\n",
        "#將預測的股票價格以藍色折線的形式繪製在圖表上，同時添加標籤 \"Predicted Google Stock Price\"。\n",
        "plt.title('Google Stock Price Prediction')\n",
        "#設定圖表的標題為 \"Google Stock Price Prediction\"。\n",
        "plt.xlabel('Time')\n",
        "#設定X軸的標籤為 \"Time\"。\n",
        "plt.ylabel('Google Stock Price')\n",
        "#設定Y軸的標籤為 \"Google Stock Price\"。\n",
        "plt.legend()\n",
        "#顯示圖例，將 \"Real Google Stock Price\" 和 \"Predicted Google Stock Price\" 顯示在圖表中。\n",
        "plt.show()"
      ],
      "metadata": {
        "colab": {
          "base_uri": "https://localhost:8080/",
          "height": 472
        },
        "id": "0PUA9hJtHNg3",
        "outputId": "ae4809b6-0f97-4544-8854-bd9782227951"
      },
      "execution_count": 5,
      "outputs": [
        {
          "output_type": "display_data",
          "data": {
            "text/plain": [
              "<Figure size 640x480 with 1 Axes>"
            ],
            "image/png": "[encoded data removed]"
          },
          "metadata": {}
        }
      ]
    }
  ]
}