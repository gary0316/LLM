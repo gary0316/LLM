{
  "nbformat": 4,
  "nbformat_minor": 0,
  "metadata": {
    "colab": {
      "provenance": []
    },
    "kernelspec": {
      "name": "python3",
      "display_name": "Python 3"
    },
    "language_info": {
      "name": "python"
    }
  },
  "cells": [
    {
      "cell_type": "code",
      "execution_count": 1,
      "metadata": {
        "colab": {
          "base_uri": "https://localhost:8080/"
        },
        "id": "yafdbxJU8U5n",
        "outputId": "74875a48-8b7a-46c1-8d5d-22f50268c811"
      },
      "outputs": [
        {
          "output_type": "stream",
          "name": "stdout",
          "text": [
            "Collecting CwnGraph\n",
            "  Downloading CwnGraph-0.4.0-py3-none-any.whl (32 kB)\n",
            "Requirement already satisfied: gdown>=4.4.0 in /usr/local/lib/python3.10/dist-packages (from CwnGraph) (4.6.6)\n",
            "Requirement already satisfied: requests in /usr/local/lib/python3.10/dist-packages (from CwnGraph) (2.31.0)\n",
            "Requirement already satisfied: nltk in /usr/local/lib/python3.10/dist-packages (from CwnGraph) (3.8.1)\n",
            "Requirement already satisfied: filelock in /usr/local/lib/python3.10/dist-packages (from gdown>=4.4.0->CwnGraph) (3.13.1)\n",
            "Requirement already satisfied: six in /usr/local/lib/python3.10/dist-packages (from gdown>=4.4.0->CwnGraph) (1.16.0)\n",
            "Requirement already satisfied: tqdm in /usr/local/lib/python3.10/dist-packages (from gdown>=4.4.0->CwnGraph) (4.66.1)\n",
            "Requirement already satisfied: beautifulsoup4 in /usr/local/lib/python3.10/dist-packages (from gdown>=4.4.0->CwnGraph) (4.11.2)\n",
            "Requirement already satisfied: click in /usr/local/lib/python3.10/dist-packages (from nltk->CwnGraph) (8.1.7)\n",
            "Requirement already satisfied: joblib in /usr/local/lib/python3.10/dist-packages (from nltk->CwnGraph) (1.3.2)\n",
            "Requirement already satisfied: regex>=2021.8.3 in /usr/local/lib/python3.10/dist-packages (from nltk->CwnGraph) (2023.6.3)\n",
            "Requirement already satisfied: charset-normalizer<4,>=2 in /usr/local/lib/python3.10/dist-packages (from requests->CwnGraph) (3.3.2)\n",
            "Requirement already satisfied: idna<4,>=2.5 in /usr/local/lib/python3.10/dist-packages (from requests->CwnGraph) (3.6)\n",
            "Requirement already satisfied: urllib3<3,>=1.21.1 in /usr/local/lib/python3.10/dist-packages (from requests->CwnGraph) (2.0.7)\n",
            "Requirement already satisfied: certifi>=2017.4.17 in /usr/local/lib/python3.10/dist-packages (from requests->CwnGraph) (2023.11.17)\n",
            "Requirement already satisfied: soupsieve>1.2 in /usr/local/lib/python3.10/dist-packages (from beautifulsoup4->gdown>=4.4.0->CwnGraph) (2.5)\n",
            "Requirement already satisfied: PySocks!=1.5.7,>=1.5.6 in /usr/local/lib/python3.10/dist-packages (from requests->CwnGraph) (1.7.1)\n",
            "Installing collected packages: CwnGraph\n",
            "Successfully installed CwnGraph-0.4.0\n"
          ]
        }
      ],
      "source": [
        "!pip install CwnGraph\n",
        "#透過pip安裝CwnGraph套件。"
      ]
    },
    {
      "cell_type": "code",
      "source": [
        "from CwnGraph import CwnImage\n",
        "#載入CwnImage類別，用於處理《國語辭典》的中文詞彙網。\n",
        "cwn = CwnImage.latest()\n",
        "#建立一個CwnImage物件，用於查詢、操作《國語辭典》中的詞彙。\n",
        "lemmas = cwn.find_lemma(\"頭\")\n",
        "#使用find_lemma方法查詢包含指定字形（\"頭\"）的所有詞條。\n",
        "lemmas\n",
        "#查詢結果的變數"
      ],
      "metadata": {
        "colab": {
          "base_uri": "https://localhost:8080/"
        },
        "id": "EAxIPfR98xb9",
        "outputId": "d28960d3-6b17-4029-a271-22731700e284"
      },
      "execution_count": 2,
      "outputs": [
        {
          "output_type": "stream",
          "name": "stdout",
          "text": [
            "updating manifest...\n",
            "manifest version:  v2022.08\n",
            "downloading image: 1znQexFItQsALVz6hZmBfR5uvcNdhclOZ...\n"
          ]
        },
        {
          "output_type": "stream",
          "name": "stderr",
          "text": [
            "Downloading...\n",
            "From: https://drive.google.com/uc?id=1znQexFItQsALVz6hZmBfR5uvcNdhclOZ\n",
            "To: /content/cwn-graph-v.2022.08.01.pyobj\n",
            "100%|██████████| 31.6M/31.6M [00:00<00:00, 72.3MB/s]\n"
          ]
        },
        {
          "output_type": "stream",
          "name": "stdout",
          "text": [
            "image has downloaded:  cwn-graph-v.2022.08.01.pyobj\n"
          ]
        },
        {
          "output_type": "execute_result",
          "data": {
            "text/plain": [
              "[<CwnLemma: 罐頭_1>,\n",
              " <CwnLemma: 年頭_1>,\n",
              " <CwnLemma: 山頭_1>,\n",
              " <CwnLemma: 頭_1>,\n",
              " <CwnLemma: 頭疼_1>,\n",
              " <CwnLemma: 從頭_1>,\n",
              " <CwnLemma: 龍頭_1>,\n",
              " <CwnLemma: 口頭_1>,\n",
              " <CwnLemma: 出頭_1>,\n",
              " <CwnLemma: 斷頭_1>,\n",
              " <CwnLemma: 分頭_1>,\n",
              " <CwnLemma: 回頭_1>,\n",
              " <CwnLemma: 磕頭_1>,\n",
              " <CwnLemma: 頭號_1>,\n",
              " <CwnLemma: 頭部_1>,\n",
              " <CwnLemma: 點頭_1>,\n",
              " <CwnLemma: 抬頭_1>,\n",
              " <CwnLemma: 街頭_1>,\n",
              " <CwnLemma: 裡頭_1>,\n",
              " <CwnLemma: 源頭_1>,\n",
              " <CwnLemma: 頭家_1>,\n",
              " <CwnLemma: 工頭_1>,\n",
              " <CwnLemma: 大舌頭_1>,\n",
              " <CwnLemma: 老頭_1>,\n",
              " <CwnLemma: 老頭子_1>,\n",
              " <CwnLemma: 花頭_1>,\n",
              " <CwnLemma: 白頭翁_1>,\n",
              " <CwnLemma: 頭彩_1>,\n",
              " <CwnLemma: 人頭稅_1>,\n",
              " <CwnLemma: 戶頭_1>,\n",
              " <CwnLemma: 頭癬_1>,\n",
              " <CwnLemma: 木頭_1>,\n",
              " <CwnLemma: 領頭_1>,\n",
              " <CwnLemma: 頭錘_1>,\n",
              " <CwnLemma: 零頭_1>,\n",
              " <CwnLemma: 接頭_1>,\n",
              " <CwnLemma: 頭狀_1>,\n",
              " <CwnLemma: 白頭鷹_1>,\n",
              " <CwnLemma: 貓頭鷹_1>,\n",
              " <CwnLemma: 頭蝨_1>,\n",
              " <CwnLemma: 奶頭_1>,\n",
              " <CwnLemma: 頭髮_1>,\n",
              " <CwnLemma: 平頭_1>,\n",
              " <CwnLemma: 舌頭_1>,\n",
              " <CwnLemma: 龜頭_1>,\n",
              " <CwnLemma: 人頭_1>,\n",
              " <CwnLemma: 頭頂_1>,\n",
              " <CwnLemma: 頭皮_1>,\n",
              " <CwnLemma: 頭蓋_1>,\n",
              " <CwnLemma: 拳頭_1>,\n",
              " <CwnLemma: 雙頭肌_1>,\n",
              " <CwnLemma: 額頭_1>,\n",
              " <CwnLemma: 念頭_1>,\n",
              " <CwnLemma: 頭條_1>,\n",
              " <CwnLemma: 開頭_1>,\n",
              " <CwnLemma: 叩頭_1>,\n",
              " <CwnLemma: 芋頭_1>,\n",
              " <CwnLemma: 橋頭堡_1>,\n",
              " <CwnLemma: 盡頭_1>,\n",
              " <CwnLemma: 石頭_1>,\n",
              " <CwnLemma: 露頭_1>,\n",
              " <CwnLemma: 頭皮屑_1>,\n",
              " <CwnLemma: 兩頭蛇_1>,\n",
              " <CwnLemma: 空頭_1>,\n",
              " <CwnLemma: 頭重腳輕_1>,\n",
              " <CwnLemma: 箭頭_1>,\n",
              " <CwnLemma: 斧頭_1>,\n",
              " <CwnLemma: 鑽頭_1>,\n",
              " <CwnLemma: 船頭_1>,\n",
              " <CwnLemma: 頭巾_1>,\n",
              " <CwnLemma: 虎頭蛇尾_1>,\n",
              " <CwnLemma: 鏡頭_1>,\n",
              " <CwnLemma: 柱頭_1>,\n",
              " <CwnLemma: 頭暈目眩_1>,\n",
              " <CwnLemma: 煙頭_1>,\n",
              " <CwnLemma: 滑頭_1>,\n",
              " <CwnLemma: 寡頭政治_1>,\n",
              " <CwnLemma: 頭銜_1>,\n",
              " <CwnLemma: 頭蓋骨_1>,\n",
              " <CwnLemma: 乳頭狀_1>,\n",
              " <CwnLemma: 喉頭_1>,\n",
              " <CwnLemma: 水龍頭_1>,\n",
              " <CwnLemma: 大頭_1>,\n",
              " <CwnLemma: 頭等艙_1>,\n",
              " <CwnLemma: 斷頭台_1>,\n",
              " <CwnLemma: 行頭_1>,\n",
              " <CwnLemma: 頭盔_1>,\n",
              " <CwnLemma: 頭像_1>,\n",
              " <CwnLemma: 鋤頭_1>,\n",
              " <CwnLemma: 頭罩_1>,\n",
              " <CwnLemma: 火車頭_1>,\n",
              " <CwnLemma: 磁頭_1>,\n",
              " <CwnLemma: 碼頭_1>,\n",
              " <CwnLemma: 尖頭_1>,\n",
              " <CwnLemma: 枕頭_1>,\n",
              " <CwnLemma: 針頭_1>,\n",
              " <CwnLemma: 插頭_1>,\n",
              " <CwnLemma: 店頭_1>,\n",
              " <CwnLemma: 噴頭_1>,\n",
              " <CwnLemma: 蓮蓬頭_1>,\n",
              " <CwnLemma: 矛頭_1>,\n",
              " <CwnLemma: 大頭釘_1>,\n",
              " <CwnLemma: 頭飾_1>,\n",
              " <CwnLemma: 三頭馬車_1>,\n",
              " <CwnLemma: 彈頭_1>,\n",
              " <CwnLemma: 皺眉頭_1>,\n",
              " <CwnLemma: 從頭到尾_1>,\n",
              " <CwnLemma: 頭昏眼花_1>,\n",
              " <CwnLemma: 賊頭賊腦_1>,\n",
              " <CwnLemma: 砍頭_1>,\n",
              " <CwnLemma: 起頭_1>,\n",
              " <CwnLemma: 梳頭_1>,\n",
              " <CwnLemma: 禿頭_1>,\n",
              " <CwnLemma: 搖頭_1>,\n",
              " <CwnLemma: 掉頭_1>,\n",
              " <CwnLemma: 垂頭喪氣_1>,\n",
              " <CwnLemma: 頭等_1>,\n",
              " <CwnLemma: 噱頭_1>,\n",
              " <CwnLemma: 鐘頭_1>,\n",
              " <CwnLemma: 骨頭_1>,\n",
              " <CwnLemma: 後頭_1>,\n",
              " <CwnLemma: 裏頭_1>,\n",
              " <CwnLemma: 饅頭_1>,\n",
              " <CwnLemma: 前頭_1>,\n",
              " <CwnLemma: 上頭_1>,\n",
              " <CwnLemma: 手指頭_1>,\n",
              " <CwnLemma: 頭痛_1>,\n",
              " <CwnLemma: 外頭_1>,\n",
              " <CwnLemma: 到頭來_1>,\n",
              " <CwnLemma: 關頭_1>,\n",
              " <CwnLemma: 老頭兒_1>,\n",
              " <CwnLemma: 眉頭_1>,\n",
              " <CwnLemma: 派頭_1>,\n",
              " <CwnLemma: 頭腦_1>,\n",
              " <CwnLemma: 指頭_1>,\n",
              " <CwnLemma: 開頭兒_1>,\n",
              " <CwnLemma: 心頭_1>]"
            ]
          },
          "metadata": {},
          "execution_count": 2
        }
      ]
    },
    {
      "cell_type": "code",
      "source": [
        "import nltk\n",
        "#載入NLTK套件。\n",
        "nltk.download('wordnet')\n",
        "#下載NLTK中的WordNet資源。\n",
        "from nltk.corpus import wordnet as wn\n",
        "#從NLTK中的WordNet模組中載入wordnet。\n",
        "wn.synsets('dog')\n",
        "#使用WordNet中的synsets函數，查詢包含指定單詞（'dog'）的所有同義詞集（synsets）。"
      ],
      "metadata": {
        "colab": {
          "base_uri": "https://localhost:8080/"
        },
        "id": "pDwd7IK58xan",
        "outputId": "e1922d87-5ec6-40d5-f547-9bb8b758c92e"
      },
      "execution_count": 3,
      "outputs": [
        {
          "output_type": "stream",
          "name": "stderr",
          "text": [
            "[nltk_data] Downloading package wordnet to /root/nltk_data...\n"
          ]
        },
        {
          "output_type": "execute_result",
          "data": {
            "text/plain": [
              "[Synset('dog.n.01'),\n",
              " Synset('frump.n.01'),\n",
              " Synset('dog.n.03'),\n",
              " Synset('cad.n.01'),\n",
              " Synset('frank.n.02'),\n",
              " Synset('pawl.n.01'),\n",
              " Synset('andiron.n.01'),\n",
              " Synset('chase.v.01')]"
            ]
          },
          "metadata": {},
          "execution_count": 3
        }
      ]
    }
  ]
}